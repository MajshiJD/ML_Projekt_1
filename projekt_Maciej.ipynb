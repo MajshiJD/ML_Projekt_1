{
 "cells": [
  {
   "cell_type": "code",
   "execution_count": 2,
   "metadata": {
    "collapsed": true
   },
   "outputs": [],
   "source": [
    "# ładujemy potrzebne pakiety\n",
    "import pandas as pd\n",
    "import numpy as np\n",
    "import matplotlib.pyplot as plt\n",
    "import matplotlib as mpl\n",
    "import seaborn as sns\n",
    "import warnings\n",
    "warnings.filterwarnings('ignore')\n",
    "np.random.seed(42)\n",
    "\n",
    "mpl.rc('axes', labelsize=14)\n",
    "mpl.rc('xtick', labelsize=12)\n",
    "mpl.rc('ytick', labelsize=12)\n",
    "plt.rcParams['figure.figsize'] = (10, 5)"
   ]
  },
  {
   "cell_type": "code",
   "execution_count": 37,
   "outputs": [],
   "source": [
    "# wczytujemy całą ramkę danych\n",
    "data = pd.read_csv(\"./data/dataset_1.csv\")"
   ],
   "metadata": {
    "collapsed": false
   }
  },
  {
   "cell_type": "code",
   "execution_count": 38,
   "outputs": [],
   "source": [
    "# dzielimy dane, tworzymy zbiór do ewaluacji i do testów\n",
    "from sklearn.model_selection import train_test_split\n",
    "\n",
    "train_set, eval_set = train_test_split(data, test_size=0.3, random_state=42)\n",
    "train_df, test_df = train_test_split(train_set, test_size=0.3, random_state=42)\n",
    "df = train_df.reset_index(drop=True)    # dla wygody"
   ],
   "metadata": {
    "collapsed": false
   }
  },
  {
   "cell_type": "code",
   "execution_count": 39,
   "outputs": [
    {
     "data": {
      "text/plain": "[0.03982, 0.04006666666666667, 0.039714285714285716, 0.03836734693877551]"
     },
     "execution_count": 39,
     "metadata": {},
     "output_type": "execute_result"
    }
   ],
   "source": [
    "# sprawdzamy czy mniej więcej po równo się podzieliło\n",
    "[data[data.target == 1].size/data.size,\n",
    "eval_set[eval_set.target == 1].size/eval_set.size,\n",
    "train_set[train_set.target == 1].size/train_set.size,\n",
    "df[df.target == 1].size/df.size]\n",
    "\n",
    "# jest git"
   ],
   "metadata": {
    "collapsed": false
   }
  },
  {
   "cell_type": "code",
   "execution_count": 40,
   "outputs": [
    {
     "name": "stdout",
     "output_type": "stream",
     "text": [
      "<class 'pandas.core.frame.DataFrame'>\n",
      "RangeIndex: 24500 entries, 0 to 24499\n",
      "Data columns (total 99 columns):\n",
      " #   Column   Non-Null Count  Dtype  \n",
      "---  ------   --------------  -----  \n",
      " 0   var_2    24500 non-null  int64  \n",
      " 1   var_3    24500 non-null  float64\n",
      " 2   var_4    24500 non-null  float64\n",
      " 3   var_5    24500 non-null  float64\n",
      " 4   var_6    24500 non-null  int64  \n",
      " 5   var_7    24500 non-null  int64  \n",
      " 6   var_8    24500 non-null  int64  \n",
      " 7   var_9    24500 non-null  int64  \n",
      " 8   var_10   24500 non-null  int64  \n",
      " 9   var_11   24500 non-null  float64\n",
      " 10  var_12   24500 non-null  float64\n",
      " 11  var_13   24500 non-null  float64\n",
      " 12  var_14   24500 non-null  int64  \n",
      " 13  var_15   24500 non-null  int64  \n",
      " 14  var_16   24500 non-null  float64\n",
      " 15  var_17   24500 non-null  float64\n",
      " 16  var_18   24500 non-null  float64\n",
      " 17  var_19   24500 non-null  int64  \n",
      " 18  var_20   24500 non-null  int64  \n",
      " 19  var_21   24500 non-null  float64\n",
      " 20  var_22   24500 non-null  float64\n",
      " 21  var_23   24500 non-null  int64  \n",
      " 22  var_24   24500 non-null  int64  \n",
      " 23  var_25   24500 non-null  int64  \n",
      " 24  var_26   24500 non-null  float64\n",
      " 25  var_27   24500 non-null  float64\n",
      " 26  var_28   24500 non-null  int64  \n",
      " 27  var_29   24500 non-null  float64\n",
      " 28  var_30   24500 non-null  float64\n",
      " 29  var_31   24500 non-null  int64  \n",
      " 30  var_32   24500 non-null  float64\n",
      " 31  var_33   24500 non-null  int64  \n",
      " 32  var_34   24500 non-null  int64  \n",
      " 33  var_35   24500 non-null  float64\n",
      " 34  var_36   24500 non-null  int64  \n",
      " 35  var_37   24500 non-null  int64  \n",
      " 36  var_38   24500 non-null  int64  \n",
      " 37  var_39   24500 non-null  float64\n",
      " 38  var_40   24500 non-null  float64\n",
      " 39  var_41   24500 non-null  float64\n",
      " 40  var_42   24500 non-null  float64\n",
      " 41  var_43   24500 non-null  int64  \n",
      " 42  var_44   24500 non-null  int64  \n",
      " 43  var_45   24500 non-null  int64  \n",
      " 44  var_46   24500 non-null  float64\n",
      " 45  var_47   24500 non-null  float64\n",
      " 46  var_48   24500 non-null  float64\n",
      " 47  var_49   24500 non-null  int64  \n",
      " 48  var_50   24500 non-null  float64\n",
      " 49  var_51   24500 non-null  int64  \n",
      " 50  var_52   24500 non-null  int64  \n",
      " 51  var_53   24500 non-null  int64  \n",
      " 52  var_54   24500 non-null  int64  \n",
      " 53  var_55   24500 non-null  float64\n",
      " 54  var_56   24500 non-null  int64  \n",
      " 55  var_57   24500 non-null  float64\n",
      " 56  var_58   24500 non-null  int64  \n",
      " 57  var_59   24500 non-null  int64  \n",
      " 58  var_60   24500 non-null  int64  \n",
      " 59  var_61   24500 non-null  int64  \n",
      " 60  var_62   24500 non-null  int64  \n",
      " 61  var_63   24500 non-null  int64  \n",
      " 62  var_64   24500 non-null  float64\n",
      " 63  var_65   24500 non-null  float64\n",
      " 64  var_66   24500 non-null  int64  \n",
      " 65  var_67   24500 non-null  int64  \n",
      " 66  var_68   24500 non-null  int64  \n",
      " 67  var_69   24500 non-null  int64  \n",
      " 68  var_70   24500 non-null  int64  \n",
      " 69  var_71   24500 non-null  int64  \n",
      " 70  var_72   24500 non-null  int64  \n",
      " 71  var_73   24500 non-null  int64  \n",
      " 72  var_74   24500 non-null  int64  \n",
      " 73  var_75   24500 non-null  float64\n",
      " 74  var_76   24500 non-null  float64\n",
      " 75  var_77   24500 non-null  float64\n",
      " 76  var_78   24500 non-null  float64\n",
      " 77  var_79   24500 non-null  float64\n",
      " 78  var_80   24500 non-null  int64  \n",
      " 79  var_81   24500 non-null  int64  \n",
      " 80  var_82   24500 non-null  int64  \n",
      " 81  var_83   24500 non-null  int64  \n",
      " 82  var_84   24500 non-null  int64  \n",
      " 83  var_85   24500 non-null  float64\n",
      " 84  var_86   24500 non-null  float64\n",
      " 85  var_87   24500 non-null  int64  \n",
      " 86  var_88   24500 non-null  int64  \n",
      " 87  var_89   24500 non-null  float64\n",
      " 88  var_90   24500 non-null  float64\n",
      " 89  var_91   24500 non-null  float64\n",
      " 90  var_92   24500 non-null  int64  \n",
      " 91  var_93   24500 non-null  float64\n",
      " 92  var_94   24500 non-null  int64  \n",
      " 93  var_95   24500 non-null  int64  \n",
      " 94  var_96   24500 non-null  float64\n",
      " 95  var_97   24500 non-null  int64  \n",
      " 96  var_98   24500 non-null  float64\n",
      " 97  var_99   24500 non-null  int64  \n",
      " 98  var_100  24500 non-null  float64\n",
      "dtypes: float64(43), int64(56)\n",
      "memory usage: 18.5 MB\n",
      "<class 'pandas.core.frame.DataFrame'>\n",
      "RangeIndex: 24500 entries, 0 to 24499\n",
      "Data columns (total 100 columns):\n",
      " #   Column   Non-Null Count  Dtype  \n",
      "---  ------   --------------  -----  \n",
      " 0   var_101  24500 non-null  float64\n",
      " 1   var_102  24500 non-null  float64\n",
      " 2   var_103  24500 non-null  int64  \n",
      " 3   var_104  24500 non-null  int64  \n",
      " 4   var_105  24500 non-null  float64\n",
      " 5   var_106  24500 non-null  int64  \n",
      " 6   var_107  24500 non-null  int64  \n",
      " 7   var_108  24500 non-null  float64\n",
      " 8   var_109  24500 non-null  float64\n",
      " 9   var_110  24500 non-null  float64\n",
      " 10  var_111  24500 non-null  int64  \n",
      " 11  var_112  24500 non-null  int64  \n",
      " 12  var_113  24500 non-null  int64  \n",
      " 13  var_114  24500 non-null  int64  \n",
      " 14  var_115  24500 non-null  float64\n",
      " 15  var_116  24500 non-null  int64  \n",
      " 16  var_117  24500 non-null  int64  \n",
      " 17  var_118  24500 non-null  float64\n",
      " 18  var_119  24500 non-null  float64\n",
      " 19  var_120  24500 non-null  int64  \n",
      " 20  var_121  24500 non-null  int64  \n",
      " 21  var_122  24500 non-null  int64  \n",
      " 22  var_123  24500 non-null  int64  \n",
      " 23  var_124  24500 non-null  int64  \n",
      " 24  var_125  24500 non-null  float64\n",
      " 25  var_126  24500 non-null  float64\n",
      " 26  var_127  24500 non-null  int64  \n",
      " 27  var_128  24500 non-null  float64\n",
      " 28  var_129  24500 non-null  int64  \n",
      " 29  var_130  24500 non-null  float64\n",
      " 30  var_131  24500 non-null  float64\n",
      " 31  var_132  24500 non-null  int64  \n",
      " 32  var_133  24500 non-null  int64  \n",
      " 33  var_134  24500 non-null  float64\n",
      " 34  var_135  24500 non-null  int64  \n",
      " 35  var_136  24500 non-null  float64\n",
      " 36  var_137  24500 non-null  int64  \n",
      " 37  var_138  24500 non-null  float64\n",
      " 38  var_139  24500 non-null  float64\n",
      " 39  var_140  24500 non-null  float64\n",
      " 40  var_141  24500 non-null  int64  \n",
      " 41  var_142  24500 non-null  float64\n",
      " 42  var_143  24500 non-null  int64  \n",
      " 43  var_144  24500 non-null  float64\n",
      " 44  var_145  24500 non-null  float64\n",
      " 45  var_146  24500 non-null  int64  \n",
      " 46  var_147  24500 non-null  float64\n",
      " 47  var_148  24500 non-null  int64  \n",
      " 48  var_149  24500 non-null  int64  \n",
      " 49  var_150  24500 non-null  float64\n",
      " 50  var_151  24500 non-null  int64  \n",
      " 51  var_152  24500 non-null  int64  \n",
      " 52  var_153  24500 non-null  float64\n",
      " 53  var_154  24500 non-null  float64\n",
      " 54  var_155  24500 non-null  int64  \n",
      " 55  var_156  24500 non-null  float64\n",
      " 56  var_157  24500 non-null  float64\n",
      " 57  var_158  24500 non-null  int64  \n",
      " 58  var_159  24500 non-null  int64  \n",
      " 59  var_160  24500 non-null  int64  \n",
      " 60  var_161  24500 non-null  float64\n",
      " 61  var_162  24500 non-null  int64  \n",
      " 62  var_163  24500 non-null  int64  \n",
      " 63  var_164  24500 non-null  int64  \n",
      " 64  var_165  24500 non-null  float64\n",
      " 65  var_166  24500 non-null  float64\n",
      " 66  var_167  24500 non-null  int64  \n",
      " 67  var_168  24500 non-null  int64  \n",
      " 68  var_169  24500 non-null  int64  \n",
      " 69  var_170  24500 non-null  int64  \n",
      " 70  var_171  24500 non-null  int64  \n",
      " 71  var_172  24500 non-null  int64  \n",
      " 72  var_173  24500 non-null  float64\n",
      " 73  var_174  24500 non-null  int64  \n",
      " 74  var_175  24500 non-null  int64  \n",
      " 75  var_176  24500 non-null  int64  \n",
      " 76  var_177  24500 non-null  int64  \n",
      " 77  var_178  24500 non-null  float64\n",
      " 78  var_179  24500 non-null  int64  \n",
      " 79  var_180  24500 non-null  float64\n",
      " 80  var_181  24500 non-null  int64  \n",
      " 81  var_182  24500 non-null  int64  \n",
      " 82  var_183  24500 non-null  int64  \n",
      " 83  var_184  24500 non-null  float64\n",
      " 84  var_185  24500 non-null  float64\n",
      " 85  var_186  24500 non-null  float64\n",
      " 86  var_187  24500 non-null  int64  \n",
      " 87  var_188  24500 non-null  float64\n",
      " 88  var_189  24500 non-null  int64  \n",
      " 89  var_190  24500 non-null  float64\n",
      " 90  var_191  24500 non-null  float64\n",
      " 91  var_192  24500 non-null  float64\n",
      " 92  var_193  24500 non-null  float64\n",
      " 93  var_194  24500 non-null  int64  \n",
      " 94  var_195  24500 non-null  int64  \n",
      " 95  var_196  24500 non-null  int64  \n",
      " 96  var_197  24500 non-null  int64  \n",
      " 97  var_198  24500 non-null  int64  \n",
      " 98  var_199  24500 non-null  int64  \n",
      " 99  var_200  24500 non-null  float64\n",
      "dtypes: float64(43), int64(57)\n",
      "memory usage: 18.7 MB\n",
      "<class 'pandas.core.frame.DataFrame'>\n",
      "RangeIndex: 24500 entries, 0 to 24499\n",
      "Data columns (total 100 columns):\n",
      " #   Column   Non-Null Count  Dtype  \n",
      "---  ------   --------------  -----  \n",
      " 0   var_201  24500 non-null  int64  \n",
      " 1   var_202  24500 non-null  int64  \n",
      " 2   var_203  24500 non-null  float64\n",
      " 3   var_204  24500 non-null  float64\n",
      " 4   var_205  24500 non-null  float64\n",
      " 5   var_206  24500 non-null  int64  \n",
      " 6   var_207  24500 non-null  float64\n",
      " 7   var_208  24500 non-null  float64\n",
      " 8   var_209  24500 non-null  int64  \n",
      " 9   var_210  24500 non-null  float64\n",
      " 10  var_211  24500 non-null  int64  \n",
      " 11  var_212  24500 non-null  int64  \n",
      " 12  var_213  24500 non-null  float64\n",
      " 13  var_214  24500 non-null  float64\n",
      " 14  var_215  24500 non-null  int64  \n",
      " 15  var_216  24500 non-null  int64  \n",
      " 16  var_217  24500 non-null  int64  \n",
      " 17  var_218  24500 non-null  int64  \n",
      " 18  var_219  24500 non-null  int64  \n",
      " 19  var_220  24500 non-null  float64\n",
      " 20  var_221  24500 non-null  int64  \n",
      " 21  var_222  24500 non-null  float64\n",
      " 22  var_223  24500 non-null  int64  \n",
      " 23  var_224  24500 non-null  int64  \n",
      " 24  var_225  24500 non-null  int64  \n",
      " 25  var_226  24500 non-null  int64  \n",
      " 26  var_227  24500 non-null  float64\n",
      " 27  var_228  24500 non-null  float64\n",
      " 28  var_229  24500 non-null  int64  \n",
      " 29  var_230  24500 non-null  int64  \n",
      " 30  var_231  24500 non-null  float64\n",
      " 31  var_232  24500 non-null  int64  \n",
      " 32  var_233  24500 non-null  int64  \n",
      " 33  var_234  24500 non-null  int64  \n",
      " 34  var_235  24500 non-null  int64  \n",
      " 35  var_236  24500 non-null  int64  \n",
      " 36  var_237  24500 non-null  float64\n",
      " 37  var_238  24500 non-null  int64  \n",
      " 38  var_239  24500 non-null  int64  \n",
      " 39  var_240  24500 non-null  float64\n",
      " 40  var_241  24500 non-null  int64  \n",
      " 41  var_242  24500 non-null  float64\n",
      " 42  var_243  24500 non-null  float64\n",
      " 43  var_244  24500 non-null  float64\n",
      " 44  var_245  24500 non-null  int64  \n",
      " 45  var_246  24500 non-null  float64\n",
      " 46  var_247  24500 non-null  int64  \n",
      " 47  var_248  24500 non-null  int64  \n",
      " 48  var_249  24500 non-null  int64  \n",
      " 49  var_250  24500 non-null  int64  \n",
      " 50  var_251  24500 non-null  int64  \n",
      " 51  var_252  24500 non-null  int64  \n",
      " 52  var_253  24500 non-null  float64\n",
      " 53  var_254  24500 non-null  float64\n",
      " 54  var_255  24500 non-null  float64\n",
      " 55  var_256  24500 non-null  int64  \n",
      " 56  var_257  24500 non-null  float64\n",
      " 57  var_258  24500 non-null  int64  \n",
      " 58  var_259  24500 non-null  int64  \n",
      " 59  var_260  24500 non-null  int64  \n",
      " 60  var_261  24500 non-null  float64\n",
      " 61  var_262  24500 non-null  int64  \n",
      " 62  var_263  24500 non-null  int64  \n",
      " 63  var_264  24500 non-null  float64\n",
      " 64  var_265  24500 non-null  float64\n",
      " 65  var_266  24500 non-null  float64\n",
      " 66  var_267  24500 non-null  int64  \n",
      " 67  var_268  24500 non-null  float64\n",
      " 68  var_269  24500 non-null  int64  \n",
      " 69  var_270  24500 non-null  int64  \n",
      " 70  var_271  24500 non-null  float64\n",
      " 71  var_272  24500 non-null  float64\n",
      " 72  var_273  24500 non-null  int64  \n",
      " 73  var_274  24500 non-null  int64  \n",
      " 74  var_275  24500 non-null  int64  \n",
      " 75  var_276  24500 non-null  float64\n",
      " 76  var_277  24500 non-null  float64\n",
      " 77  var_278  24500 non-null  int64  \n",
      " 78  var_279  24500 non-null  float64\n",
      " 79  var_280  24500 non-null  float64\n",
      " 80  var_281  24500 non-null  int64  \n",
      " 81  var_282  24500 non-null  int64  \n",
      " 82  var_283  24500 non-null  float64\n",
      " 83  var_284  24500 non-null  int64  \n",
      " 84  var_285  24500 non-null  int64  \n",
      " 85  var_286  24500 non-null  float64\n",
      " 86  var_287  24500 non-null  int64  \n",
      " 87  var_288  24500 non-null  float64\n",
      " 88  var_289  24500 non-null  int64  \n",
      " 89  var_290  24500 non-null  float64\n",
      " 90  var_291  24500 non-null  int64  \n",
      " 91  var_292  24500 non-null  float64\n",
      " 92  var_293  24500 non-null  int64  \n",
      " 93  var_294  24500 non-null  int64  \n",
      " 94  var_295  24500 non-null  int64  \n",
      " 95  var_296  24500 non-null  int64  \n",
      " 96  var_297  24500 non-null  int64  \n",
      " 97  var_298  24500 non-null  int64  \n",
      " 98  var_299  24500 non-null  float64\n",
      " 99  var_300  24500 non-null  float64\n",
      "dtypes: float64(41), int64(59)\n",
      "memory usage: 18.7 MB\n",
      "<class 'pandas.core.series.Series'>\n",
      "RangeIndex: 24500 entries, 0 to 24499\n",
      "Series name: target\n",
      "Non-Null Count  Dtype\n",
      "--------------  -----\n",
      "24500 non-null  int64\n",
      "dtypes: int64(1)\n",
      "memory usage: 191.5 KB\n"
     ]
    },
    {
     "data": {
      "text/plain": "0    23560\n1      940\nName: target, dtype: int64"
     },
     "execution_count": 40,
     "metadata": {},
     "output_type": "execute_result"
    }
   ],
   "source": [
    "# sprawdzamy typy zmiennych i występowanie braków\n",
    "df.iloc[:, 1:100].info()\n",
    "df.iloc[:, 100:200].info()\n",
    "df.iloc[:, 200:300].info()\n",
    "df.target.info()\n",
    "df.target.value_counts()"
   ],
   "metadata": {
    "collapsed": false
   }
  },
  {
   "cell_type": "markdown",
   "source": [
    "Wnioski: mamy do czynienia z 300 zmiennymi numerycznymi bez braków danych, a zmienna objaśniana jest binarna."
   ],
   "metadata": {
    "collapsed": false
   }
  },
  {
   "cell_type": "code",
   "execution_count": 41,
   "outputs": [],
   "source": [
    "X = df.iloc[:, :300]\n",
    "y = df.target"
   ],
   "metadata": {
    "collapsed": false
   }
  },
  {
   "cell_type": "code",
   "execution_count": 42,
   "outputs": [
    {
     "data": {
      "text/plain": "              var_1    var_2          var_3         var_4          var_5  \\\ncount  24500.000000  24500.0   24500.000000  24500.000000   24500.000000   \nmean       0.001959      0.0       9.505698      3.168856     576.883608   \nstd        0.101402      0.0     728.074414      2.768712   10151.771380   \nmin        0.000000      0.0       0.000000      0.000000       0.000000   \n25%        0.000000      0.0       0.000000      0.000000       0.000000   \n50%        0.000000      0.0       0.000000      2.850000       0.000000   \n75%        0.000000      0.0       0.000000      3.000000       0.000000   \nmax        9.000000      0.0  101195.473500     35.280000  418500.000000   \n\n         var_6         var_7         var_8         var_9   var_10  ...  \\\ncount  24500.0  24500.000000  24500.000000  24500.000000  24500.0  ...   \nmean       0.0      0.000122      0.032816      0.000367      0.0  ...   \nstd        0.0      0.019166      0.312051      0.033196      0.0  ...   \nmin        0.0      0.000000      0.000000      0.000000      0.0  ...   \n25%        0.0      0.000000      0.000000      0.000000      0.0  ...   \n50%        0.0      0.000000      0.000000      0.000000      0.0  ...   \n75%        0.0      0.000000      0.000000      0.000000      0.0  ...   \nmax        0.0      3.000000      3.000000      3.000000      0.0  ...   \n\n            var_291      var_292       var_293  var_294       var_295  \\\ncount  24500.000000  24500.00000  24500.000000  24500.0  24500.000000   \nmean       0.005633      0.09703      0.009184      0.0      0.126000   \nstd        0.129873      1.26670      0.198049      0.0      0.604217   \nmin        0.000000      0.00000      0.000000      0.0      0.000000   \n25%        0.000000      0.00000      0.000000      0.0      0.000000   \n50%        0.000000      0.00000      0.000000      0.0      0.000000   \n75%        0.000000      0.00000      0.000000      0.0      0.000000   \nmax        3.000000     74.52000     12.000000      0.0      6.000000   \n\n            var_296  var_297       var_298        var_299       var_300  \ncount  24500.000000  24500.0  24500.000000   24500.000000  2.450000e+04  \nmean       0.085959      0.0      0.003143      17.845268  5.901528e+03  \nstd        0.617478      0.0      0.079991    1084.015022  4.991740e+04  \nmin        0.000000      0.0      0.000000       0.000000  0.000000e+00  \n25%        0.000000      0.0      0.000000       0.000000  0.000000e+00  \n50%        0.000000      0.0      0.000000       0.000000  0.000000e+00  \n75%        0.000000      0.0      0.000000       0.000000  0.000000e+00  \nmax       27.000000      0.0      3.000000  134666.681100  2.857673e+06  \n\n[8 rows x 300 columns]",
      "text/html": "<div>\n<style scoped>\n    .dataframe tbody tr th:only-of-type {\n        vertical-align: middle;\n    }\n\n    .dataframe tbody tr th {\n        vertical-align: top;\n    }\n\n    .dataframe thead th {\n        text-align: right;\n    }\n</style>\n<table border=\"1\" class=\"dataframe\">\n  <thead>\n    <tr style=\"text-align: right;\">\n      <th></th>\n      <th>var_1</th>\n      <th>var_2</th>\n      <th>var_3</th>\n      <th>var_4</th>\n      <th>var_5</th>\n      <th>var_6</th>\n      <th>var_7</th>\n      <th>var_8</th>\n      <th>var_9</th>\n      <th>var_10</th>\n      <th>...</th>\n      <th>var_291</th>\n      <th>var_292</th>\n      <th>var_293</th>\n      <th>var_294</th>\n      <th>var_295</th>\n      <th>var_296</th>\n      <th>var_297</th>\n      <th>var_298</th>\n      <th>var_299</th>\n      <th>var_300</th>\n    </tr>\n  </thead>\n  <tbody>\n    <tr>\n      <th>count</th>\n      <td>24500.000000</td>\n      <td>24500.0</td>\n      <td>24500.000000</td>\n      <td>24500.000000</td>\n      <td>24500.000000</td>\n      <td>24500.0</td>\n      <td>24500.000000</td>\n      <td>24500.000000</td>\n      <td>24500.000000</td>\n      <td>24500.0</td>\n      <td>...</td>\n      <td>24500.000000</td>\n      <td>24500.00000</td>\n      <td>24500.000000</td>\n      <td>24500.0</td>\n      <td>24500.000000</td>\n      <td>24500.000000</td>\n      <td>24500.0</td>\n      <td>24500.000000</td>\n      <td>24500.000000</td>\n      <td>2.450000e+04</td>\n    </tr>\n    <tr>\n      <th>mean</th>\n      <td>0.001959</td>\n      <td>0.0</td>\n      <td>9.505698</td>\n      <td>3.168856</td>\n      <td>576.883608</td>\n      <td>0.0</td>\n      <td>0.000122</td>\n      <td>0.032816</td>\n      <td>0.000367</td>\n      <td>0.0</td>\n      <td>...</td>\n      <td>0.005633</td>\n      <td>0.09703</td>\n      <td>0.009184</td>\n      <td>0.0</td>\n      <td>0.126000</td>\n      <td>0.085959</td>\n      <td>0.0</td>\n      <td>0.003143</td>\n      <td>17.845268</td>\n      <td>5.901528e+03</td>\n    </tr>\n    <tr>\n      <th>std</th>\n      <td>0.101402</td>\n      <td>0.0</td>\n      <td>728.074414</td>\n      <td>2.768712</td>\n      <td>10151.771380</td>\n      <td>0.0</td>\n      <td>0.019166</td>\n      <td>0.312051</td>\n      <td>0.033196</td>\n      <td>0.0</td>\n      <td>...</td>\n      <td>0.129873</td>\n      <td>1.26670</td>\n      <td>0.198049</td>\n      <td>0.0</td>\n      <td>0.604217</td>\n      <td>0.617478</td>\n      <td>0.0</td>\n      <td>0.079991</td>\n      <td>1084.015022</td>\n      <td>4.991740e+04</td>\n    </tr>\n    <tr>\n      <th>min</th>\n      <td>0.000000</td>\n      <td>0.0</td>\n      <td>0.000000</td>\n      <td>0.000000</td>\n      <td>0.000000</td>\n      <td>0.0</td>\n      <td>0.000000</td>\n      <td>0.000000</td>\n      <td>0.000000</td>\n      <td>0.0</td>\n      <td>...</td>\n      <td>0.000000</td>\n      <td>0.00000</td>\n      <td>0.000000</td>\n      <td>0.0</td>\n      <td>0.000000</td>\n      <td>0.000000</td>\n      <td>0.0</td>\n      <td>0.000000</td>\n      <td>0.000000</td>\n      <td>0.000000e+00</td>\n    </tr>\n    <tr>\n      <th>25%</th>\n      <td>0.000000</td>\n      <td>0.0</td>\n      <td>0.000000</td>\n      <td>0.000000</td>\n      <td>0.000000</td>\n      <td>0.0</td>\n      <td>0.000000</td>\n      <td>0.000000</td>\n      <td>0.000000</td>\n      <td>0.0</td>\n      <td>...</td>\n      <td>0.000000</td>\n      <td>0.00000</td>\n      <td>0.000000</td>\n      <td>0.0</td>\n      <td>0.000000</td>\n      <td>0.000000</td>\n      <td>0.0</td>\n      <td>0.000000</td>\n      <td>0.000000</td>\n      <td>0.000000e+00</td>\n    </tr>\n    <tr>\n      <th>50%</th>\n      <td>0.000000</td>\n      <td>0.0</td>\n      <td>0.000000</td>\n      <td>2.850000</td>\n      <td>0.000000</td>\n      <td>0.0</td>\n      <td>0.000000</td>\n      <td>0.000000</td>\n      <td>0.000000</td>\n      <td>0.0</td>\n      <td>...</td>\n      <td>0.000000</td>\n      <td>0.00000</td>\n      <td>0.000000</td>\n      <td>0.0</td>\n      <td>0.000000</td>\n      <td>0.000000</td>\n      <td>0.0</td>\n      <td>0.000000</td>\n      <td>0.000000</td>\n      <td>0.000000e+00</td>\n    </tr>\n    <tr>\n      <th>75%</th>\n      <td>0.000000</td>\n      <td>0.0</td>\n      <td>0.000000</td>\n      <td>3.000000</td>\n      <td>0.000000</td>\n      <td>0.0</td>\n      <td>0.000000</td>\n      <td>0.000000</td>\n      <td>0.000000</td>\n      <td>0.0</td>\n      <td>...</td>\n      <td>0.000000</td>\n      <td>0.00000</td>\n      <td>0.000000</td>\n      <td>0.0</td>\n      <td>0.000000</td>\n      <td>0.000000</td>\n      <td>0.0</td>\n      <td>0.000000</td>\n      <td>0.000000</td>\n      <td>0.000000e+00</td>\n    </tr>\n    <tr>\n      <th>max</th>\n      <td>9.000000</td>\n      <td>0.0</td>\n      <td>101195.473500</td>\n      <td>35.280000</td>\n      <td>418500.000000</td>\n      <td>0.0</td>\n      <td>3.000000</td>\n      <td>3.000000</td>\n      <td>3.000000</td>\n      <td>0.0</td>\n      <td>...</td>\n      <td>3.000000</td>\n      <td>74.52000</td>\n      <td>12.000000</td>\n      <td>0.0</td>\n      <td>6.000000</td>\n      <td>27.000000</td>\n      <td>0.0</td>\n      <td>3.000000</td>\n      <td>134666.681100</td>\n      <td>2.857673e+06</td>\n    </tr>\n  </tbody>\n</table>\n<p>8 rows × 300 columns</p>\n</div>"
     },
     "execution_count": 42,
     "metadata": {},
     "output_type": "execute_result"
    }
   ],
   "source": [
    "# rzucamy okiem na podsuomwanie atrybutów numerycznych\n",
    "X.describe()"
   ],
   "metadata": {
    "collapsed": false
   }
  },
  {
   "cell_type": "code",
   "execution_count": 55,
   "outputs": [
    {
     "data": {
      "text/plain": "              var_1          var_3         var_4          var_5         var_7  \\\ncount  24500.000000   24500.000000  24500.000000   24500.000000  24500.000000   \nmean       0.001959       9.505698      3.168856     576.883608      0.000122   \nstd        0.101402     728.074414      2.768712   10151.771380      0.019166   \nmin        0.000000       0.000000      0.000000       0.000000      0.000000   \n25%        0.000000       0.000000      0.000000       0.000000      0.000000   \n50%        0.000000       0.000000      2.850000       0.000000      0.000000   \n75%        0.000000       0.000000      3.000000       0.000000      0.000000   \nmax        9.000000  101195.473500     35.280000  418500.000000      3.000000   \n\n              var_8         var_9        var_13        var_15         var_16  \\\ncount  24500.000000  24500.000000  24500.000000  24500.000000   24500.000000   \nmean       0.032816      0.000367      5.049415      1.998612      56.243582   \nstd        0.312051      0.033196    231.507148      1.431255    2878.129876   \nmin        0.000000      0.000000     -0.900000      0.000000       0.000000   \n25%        0.000000      0.000000      0.000000      0.000000       0.000000   \n50%        0.000000      0.000000      0.000000      3.000000       0.000000   \n75%        0.000000      0.000000      0.000000      3.000000       0.000000   \nmax        3.000000      3.000000  33120.000000      9.000000  377990.085000   \n\n       ...       var_289       var_290       var_291      var_292  \\\ncount  ...  24500.000000  24500.000000  24500.000000  24500.00000   \nmean   ...      0.000041     10.246986      0.005633      0.09703   \nstd    ...      0.006389    533.527182      0.129873      1.26670   \nmin    ...      0.000000      0.000000      0.000000      0.00000   \n25%    ...      0.000000      0.000000      0.000000      0.00000   \n50%    ...      0.000000      0.000000      0.000000      0.00000   \n75%    ...      0.000000      0.000000      0.000000      0.00000   \nmax    ...      1.000000  45503.530800      3.000000     74.52000   \n\n            var_293       var_295       var_296       var_298        var_299  \\\ncount  24500.000000  24500.000000  24500.000000  24500.000000   24500.000000   \nmean       0.009184      0.126000      0.085959      0.003143      17.845268   \nstd        0.198049      0.604217      0.617478      0.079991    1084.015022   \nmin        0.000000      0.000000      0.000000      0.000000       0.000000   \n25%        0.000000      0.000000      0.000000      0.000000       0.000000   \n50%        0.000000      0.000000      0.000000      0.000000       0.000000   \n75%        0.000000      0.000000      0.000000      0.000000       0.000000   \nmax       12.000000      6.000000     27.000000      3.000000  134666.681100   \n\n            var_300  \ncount  2.450000e+04  \nmean   5.901528e+03  \nstd    4.991740e+04  \nmin    0.000000e+00  \n25%    0.000000e+00  \n50%    0.000000e+00  \n75%    0.000000e+00  \nmax    2.857673e+06  \n\n[8 rows x 240 columns]",
      "text/html": "<div>\n<style scoped>\n    .dataframe tbody tr th:only-of-type {\n        vertical-align: middle;\n    }\n\n    .dataframe tbody tr th {\n        vertical-align: top;\n    }\n\n    .dataframe thead th {\n        text-align: right;\n    }\n</style>\n<table border=\"1\" class=\"dataframe\">\n  <thead>\n    <tr style=\"text-align: right;\">\n      <th></th>\n      <th>var_1</th>\n      <th>var_3</th>\n      <th>var_4</th>\n      <th>var_5</th>\n      <th>var_7</th>\n      <th>var_8</th>\n      <th>var_9</th>\n      <th>var_13</th>\n      <th>var_15</th>\n      <th>var_16</th>\n      <th>...</th>\n      <th>var_289</th>\n      <th>var_290</th>\n      <th>var_291</th>\n      <th>var_292</th>\n      <th>var_293</th>\n      <th>var_295</th>\n      <th>var_296</th>\n      <th>var_298</th>\n      <th>var_299</th>\n      <th>var_300</th>\n    </tr>\n  </thead>\n  <tbody>\n    <tr>\n      <th>count</th>\n      <td>24500.000000</td>\n      <td>24500.000000</td>\n      <td>24500.000000</td>\n      <td>24500.000000</td>\n      <td>24500.000000</td>\n      <td>24500.000000</td>\n      <td>24500.000000</td>\n      <td>24500.000000</td>\n      <td>24500.000000</td>\n      <td>24500.000000</td>\n      <td>...</td>\n      <td>24500.000000</td>\n      <td>24500.000000</td>\n      <td>24500.000000</td>\n      <td>24500.00000</td>\n      <td>24500.000000</td>\n      <td>24500.000000</td>\n      <td>24500.000000</td>\n      <td>24500.000000</td>\n      <td>24500.000000</td>\n      <td>2.450000e+04</td>\n    </tr>\n    <tr>\n      <th>mean</th>\n      <td>0.001959</td>\n      <td>9.505698</td>\n      <td>3.168856</td>\n      <td>576.883608</td>\n      <td>0.000122</td>\n      <td>0.032816</td>\n      <td>0.000367</td>\n      <td>5.049415</td>\n      <td>1.998612</td>\n      <td>56.243582</td>\n      <td>...</td>\n      <td>0.000041</td>\n      <td>10.246986</td>\n      <td>0.005633</td>\n      <td>0.09703</td>\n      <td>0.009184</td>\n      <td>0.126000</td>\n      <td>0.085959</td>\n      <td>0.003143</td>\n      <td>17.845268</td>\n      <td>5.901528e+03</td>\n    </tr>\n    <tr>\n      <th>std</th>\n      <td>0.101402</td>\n      <td>728.074414</td>\n      <td>2.768712</td>\n      <td>10151.771380</td>\n      <td>0.019166</td>\n      <td>0.312051</td>\n      <td>0.033196</td>\n      <td>231.507148</td>\n      <td>1.431255</td>\n      <td>2878.129876</td>\n      <td>...</td>\n      <td>0.006389</td>\n      <td>533.527182</td>\n      <td>0.129873</td>\n      <td>1.26670</td>\n      <td>0.198049</td>\n      <td>0.604217</td>\n      <td>0.617478</td>\n      <td>0.079991</td>\n      <td>1084.015022</td>\n      <td>4.991740e+04</td>\n    </tr>\n    <tr>\n      <th>min</th>\n      <td>0.000000</td>\n      <td>0.000000</td>\n      <td>0.000000</td>\n      <td>0.000000</td>\n      <td>0.000000</td>\n      <td>0.000000</td>\n      <td>0.000000</td>\n      <td>-0.900000</td>\n      <td>0.000000</td>\n      <td>0.000000</td>\n      <td>...</td>\n      <td>0.000000</td>\n      <td>0.000000</td>\n      <td>0.000000</td>\n      <td>0.00000</td>\n      <td>0.000000</td>\n      <td>0.000000</td>\n      <td>0.000000</td>\n      <td>0.000000</td>\n      <td>0.000000</td>\n      <td>0.000000e+00</td>\n    </tr>\n    <tr>\n      <th>25%</th>\n      <td>0.000000</td>\n      <td>0.000000</td>\n      <td>0.000000</td>\n      <td>0.000000</td>\n      <td>0.000000</td>\n      <td>0.000000</td>\n      <td>0.000000</td>\n      <td>0.000000</td>\n      <td>0.000000</td>\n      <td>0.000000</td>\n      <td>...</td>\n      <td>0.000000</td>\n      <td>0.000000</td>\n      <td>0.000000</td>\n      <td>0.00000</td>\n      <td>0.000000</td>\n      <td>0.000000</td>\n      <td>0.000000</td>\n      <td>0.000000</td>\n      <td>0.000000</td>\n      <td>0.000000e+00</td>\n    </tr>\n    <tr>\n      <th>50%</th>\n      <td>0.000000</td>\n      <td>0.000000</td>\n      <td>2.850000</td>\n      <td>0.000000</td>\n      <td>0.000000</td>\n      <td>0.000000</td>\n      <td>0.000000</td>\n      <td>0.000000</td>\n      <td>3.000000</td>\n      <td>0.000000</td>\n      <td>...</td>\n      <td>0.000000</td>\n      <td>0.000000</td>\n      <td>0.000000</td>\n      <td>0.00000</td>\n      <td>0.000000</td>\n      <td>0.000000</td>\n      <td>0.000000</td>\n      <td>0.000000</td>\n      <td>0.000000</td>\n      <td>0.000000e+00</td>\n    </tr>\n    <tr>\n      <th>75%</th>\n      <td>0.000000</td>\n      <td>0.000000</td>\n      <td>3.000000</td>\n      <td>0.000000</td>\n      <td>0.000000</td>\n      <td>0.000000</td>\n      <td>0.000000</td>\n      <td>0.000000</td>\n      <td>3.000000</td>\n      <td>0.000000</td>\n      <td>...</td>\n      <td>0.000000</td>\n      <td>0.000000</td>\n      <td>0.000000</td>\n      <td>0.00000</td>\n      <td>0.000000</td>\n      <td>0.000000</td>\n      <td>0.000000</td>\n      <td>0.000000</td>\n      <td>0.000000</td>\n      <td>0.000000e+00</td>\n    </tr>\n    <tr>\n      <th>max</th>\n      <td>9.000000</td>\n      <td>101195.473500</td>\n      <td>35.280000</td>\n      <td>418500.000000</td>\n      <td>3.000000</td>\n      <td>3.000000</td>\n      <td>3.000000</td>\n      <td>33120.000000</td>\n      <td>9.000000</td>\n      <td>377990.085000</td>\n      <td>...</td>\n      <td>1.000000</td>\n      <td>45503.530800</td>\n      <td>3.000000</td>\n      <td>74.52000</td>\n      <td>12.000000</td>\n      <td>6.000000</td>\n      <td>27.000000</td>\n      <td>3.000000</td>\n      <td>134666.681100</td>\n      <td>2.857673e+06</td>\n    </tr>\n  </tbody>\n</table>\n<p>8 rows × 240 columns</p>\n</div>"
     },
     "execution_count": 55,
     "metadata": {},
     "output_type": "execute_result"
    }
   ],
   "source": [
    "# pierwszy nasuwający się wniosek: pojawiają się kolumny wypełnione takimi samymi wartościami, zlikwidujmy je\n",
    "\n",
    "X.drop(X.loc[:, X.nunique() == 1], axis = 1, inplace=True)\n",
    "X.describe()"
   ],
   "metadata": {
    "collapsed": false
   }
  },
  {
   "cell_type": "code",
   "execution_count": 92,
   "outputs": [
    {
     "data": {
      "text/plain": "            var_106       var_116       var_148       var_197       var_199  \\\ncount  24500.000000  24500.000000  24500.000000  24500.000000  24500.000000   \nmean       0.000939      0.000122      0.082408      0.000939      0.010408   \nstd        0.030626      0.019166      0.604439      0.030626      0.176401   \nmin        0.000000      0.000000      0.000000      0.000000      0.000000   \n25%        0.000000      0.000000      0.000000      0.000000      0.000000   \n50%        0.000000      0.000000      0.000000      0.000000      0.000000   \n75%        0.000000      0.000000      0.000000      0.000000      0.000000   \nmax        1.000000      3.000000     27.000000      1.000000      3.000000   \n\n            var_216       var_232       var_233       var_239       var_250  \\\ncount  2.450000e+04  24500.000000  24500.000000  2.450000e+04  24500.000000   \nmean   6.530612e+04      0.066367      0.000041  4.081633e+04      0.003469   \nstd    2.554724e+06      0.248928      0.006389  2.019934e+06      0.058800   \nmin    0.000000e+00      0.000000      0.000000  0.000000e+00      0.000000   \n25%    0.000000e+00      0.000000      0.000000  0.000000e+00      0.000000   \n50%    0.000000e+00      0.000000      0.000000  0.000000e+00      0.000000   \n75%    0.000000e+00      0.000000      0.000000  0.000000e+00      0.000000   \nmax    1.000000e+08      1.000000      1.000000  1.000000e+08      1.000000   \n\n            var_263       var_269       var_285       var_289       var_296  \ncount  2.450000e+04  24500.000000  24500.000000  24500.000000  24500.000000  \nmean   1.224490e+04      0.023918      0.000122      0.000041      0.085959  \nstd    1.106521e+06      0.152798      0.019166      0.006389      0.617478  \nmin   -1.000000e+00      0.000000      0.000000      0.000000      0.000000  \n25%    0.000000e+00      0.000000      0.000000      0.000000      0.000000  \n50%    0.000000e+00      0.000000      0.000000      0.000000      0.000000  \n75%    0.000000e+00      0.000000      0.000000      0.000000      0.000000  \nmax    1.000000e+08      1.000000      3.000000      1.000000     27.000000  ",
      "text/html": "<div>\n<style scoped>\n    .dataframe tbody tr th:only-of-type {\n        vertical-align: middle;\n    }\n\n    .dataframe tbody tr th {\n        vertical-align: top;\n    }\n\n    .dataframe thead th {\n        text-align: right;\n    }\n</style>\n<table border=\"1\" class=\"dataframe\">\n  <thead>\n    <tr style=\"text-align: right;\">\n      <th></th>\n      <th>var_106</th>\n      <th>var_116</th>\n      <th>var_148</th>\n      <th>var_197</th>\n      <th>var_199</th>\n      <th>var_216</th>\n      <th>var_232</th>\n      <th>var_233</th>\n      <th>var_239</th>\n      <th>var_250</th>\n      <th>var_263</th>\n      <th>var_269</th>\n      <th>var_285</th>\n      <th>var_289</th>\n      <th>var_296</th>\n    </tr>\n  </thead>\n  <tbody>\n    <tr>\n      <th>count</th>\n      <td>24500.000000</td>\n      <td>24500.000000</td>\n      <td>24500.000000</td>\n      <td>24500.000000</td>\n      <td>24500.000000</td>\n      <td>2.450000e+04</td>\n      <td>24500.000000</td>\n      <td>24500.000000</td>\n      <td>2.450000e+04</td>\n      <td>24500.000000</td>\n      <td>2.450000e+04</td>\n      <td>24500.000000</td>\n      <td>24500.000000</td>\n      <td>24500.000000</td>\n      <td>24500.000000</td>\n    </tr>\n    <tr>\n      <th>mean</th>\n      <td>0.000939</td>\n      <td>0.000122</td>\n      <td>0.082408</td>\n      <td>0.000939</td>\n      <td>0.010408</td>\n      <td>6.530612e+04</td>\n      <td>0.066367</td>\n      <td>0.000041</td>\n      <td>4.081633e+04</td>\n      <td>0.003469</td>\n      <td>1.224490e+04</td>\n      <td>0.023918</td>\n      <td>0.000122</td>\n      <td>0.000041</td>\n      <td>0.085959</td>\n    </tr>\n    <tr>\n      <th>std</th>\n      <td>0.030626</td>\n      <td>0.019166</td>\n      <td>0.604439</td>\n      <td>0.030626</td>\n      <td>0.176401</td>\n      <td>2.554724e+06</td>\n      <td>0.248928</td>\n      <td>0.006389</td>\n      <td>2.019934e+06</td>\n      <td>0.058800</td>\n      <td>1.106521e+06</td>\n      <td>0.152798</td>\n      <td>0.019166</td>\n      <td>0.006389</td>\n      <td>0.617478</td>\n    </tr>\n    <tr>\n      <th>min</th>\n      <td>0.000000</td>\n      <td>0.000000</td>\n      <td>0.000000</td>\n      <td>0.000000</td>\n      <td>0.000000</td>\n      <td>0.000000e+00</td>\n      <td>0.000000</td>\n      <td>0.000000</td>\n      <td>0.000000e+00</td>\n      <td>0.000000</td>\n      <td>-1.000000e+00</td>\n      <td>0.000000</td>\n      <td>0.000000</td>\n      <td>0.000000</td>\n      <td>0.000000</td>\n    </tr>\n    <tr>\n      <th>25%</th>\n      <td>0.000000</td>\n      <td>0.000000</td>\n      <td>0.000000</td>\n      <td>0.000000</td>\n      <td>0.000000</td>\n      <td>0.000000e+00</td>\n      <td>0.000000</td>\n      <td>0.000000</td>\n      <td>0.000000e+00</td>\n      <td>0.000000</td>\n      <td>0.000000e+00</td>\n      <td>0.000000</td>\n      <td>0.000000</td>\n      <td>0.000000</td>\n      <td>0.000000</td>\n    </tr>\n    <tr>\n      <th>50%</th>\n      <td>0.000000</td>\n      <td>0.000000</td>\n      <td>0.000000</td>\n      <td>0.000000</td>\n      <td>0.000000</td>\n      <td>0.000000e+00</td>\n      <td>0.000000</td>\n      <td>0.000000</td>\n      <td>0.000000e+00</td>\n      <td>0.000000</td>\n      <td>0.000000e+00</td>\n      <td>0.000000</td>\n      <td>0.000000</td>\n      <td>0.000000</td>\n      <td>0.000000</td>\n    </tr>\n    <tr>\n      <th>75%</th>\n      <td>0.000000</td>\n      <td>0.000000</td>\n      <td>0.000000</td>\n      <td>0.000000</td>\n      <td>0.000000</td>\n      <td>0.000000e+00</td>\n      <td>0.000000</td>\n      <td>0.000000</td>\n      <td>0.000000e+00</td>\n      <td>0.000000</td>\n      <td>0.000000e+00</td>\n      <td>0.000000</td>\n      <td>0.000000</td>\n      <td>0.000000</td>\n      <td>0.000000</td>\n    </tr>\n    <tr>\n      <th>max</th>\n      <td>1.000000</td>\n      <td>3.000000</td>\n      <td>27.000000</td>\n      <td>1.000000</td>\n      <td>3.000000</td>\n      <td>1.000000e+08</td>\n      <td>1.000000</td>\n      <td>1.000000</td>\n      <td>1.000000e+08</td>\n      <td>1.000000</td>\n      <td>1.000000e+08</td>\n      <td>1.000000</td>\n      <td>3.000000</td>\n      <td>1.000000</td>\n      <td>27.000000</td>\n    </tr>\n  </tbody>\n</table>\n</div>"
     },
     "execution_count": 92,
     "metadata": {},
     "output_type": "execute_result"
    }
   ],
   "source": [
    "# sprawdźmy, czy nie występują zduplikowane kolumny\n",
    "\n",
    "X.loc[:, X.T.duplicated()].describe()"
   ],
   "metadata": {
    "collapsed": false
   }
  },
  {
   "cell_type": "code",
   "execution_count": 93,
   "outputs": [],
   "source": [
    "# usuwamy je\n",
    "X.drop(X.loc[:, X.T.duplicated()], axis=1, inplace=True)"
   ],
   "metadata": {
    "collapsed": false
   }
  },
  {
   "cell_type": "code",
   "execution_count": 95,
   "outputs": [
    {
     "data": {
      "text/plain": "              var_1          var_3         var_4          var_5         var_7  \\\ncount  24500.000000   24500.000000  24500.000000   24500.000000  24500.000000   \nmean       0.001959       9.505698      3.168856     576.883608      0.000122   \nstd        0.101402     728.074414      2.768712   10151.771380      0.019166   \nmin        0.000000       0.000000      0.000000       0.000000      0.000000   \n25%        0.000000       0.000000      0.000000       0.000000      0.000000   \n50%        0.000000       0.000000      2.850000       0.000000      0.000000   \n75%        0.000000       0.000000      3.000000       0.000000      0.000000   \nmax        9.000000  101195.473500     35.280000  418500.000000      3.000000   \n\n              var_8         var_9        var_13        var_15         var_16  \\\ncount  24500.000000  24500.000000  24500.000000  24500.000000   24500.000000   \nmean       0.032816      0.000367      5.049415      1.998612      56.243582   \nstd        0.312051      0.033196    231.507148      1.431255    2878.129876   \nmin        0.000000      0.000000     -0.900000      0.000000       0.000000   \n25%        0.000000      0.000000      0.000000      0.000000       0.000000   \n50%        0.000000      0.000000      0.000000      3.000000       0.000000   \n75%        0.000000      0.000000      0.000000      3.000000       0.000000   \nmax        3.000000      3.000000  33120.000000      9.000000  377990.085000   \n\n       ...        var_286       var_288       var_290       var_291  \\\ncount  ...   24500.000000  24500.000000  24500.000000  24500.000000   \nmean   ...      82.450338      0.110804     10.246986      0.005633   \nstd    ...    3153.057895      1.083260    533.527182      0.129873   \nmin    ...       0.000000      0.000000      0.000000      0.000000   \n25%    ...       0.000000      0.000000      0.000000      0.000000   \n50%    ...       0.000000      0.000000      0.000000      0.000000   \n75%    ...       0.000000      0.000000      0.000000      0.000000   \nmax    ...  246477.390600     41.850000  45503.530800      3.000000   \n\n           var_292       var_293       var_295       var_298        var_299  \\\ncount  24500.00000  24500.000000  24500.000000  24500.000000   24500.000000   \nmean       0.09703      0.009184      0.126000      0.003143      17.845268   \nstd        1.26670      0.198049      0.604217      0.079991    1084.015022   \nmin        0.00000      0.000000      0.000000      0.000000       0.000000   \n25%        0.00000      0.000000      0.000000      0.000000       0.000000   \n50%        0.00000      0.000000      0.000000      0.000000       0.000000   \n75%        0.00000      0.000000      0.000000      0.000000       0.000000   \nmax       74.52000     12.000000      6.000000      3.000000  134666.681100   \n\n            var_300  \ncount  2.450000e+04  \nmean   5.901528e+03  \nstd    4.991740e+04  \nmin    0.000000e+00  \n25%    0.000000e+00  \n50%    0.000000e+00  \n75%    0.000000e+00  \nmax    2.857673e+06  \n\n[8 rows x 225 columns]",
      "text/html": "<div>\n<style scoped>\n    .dataframe tbody tr th:only-of-type {\n        vertical-align: middle;\n    }\n\n    .dataframe tbody tr th {\n        vertical-align: top;\n    }\n\n    .dataframe thead th {\n        text-align: right;\n    }\n</style>\n<table border=\"1\" class=\"dataframe\">\n  <thead>\n    <tr style=\"text-align: right;\">\n      <th></th>\n      <th>var_1</th>\n      <th>var_3</th>\n      <th>var_4</th>\n      <th>var_5</th>\n      <th>var_7</th>\n      <th>var_8</th>\n      <th>var_9</th>\n      <th>var_13</th>\n      <th>var_15</th>\n      <th>var_16</th>\n      <th>...</th>\n      <th>var_286</th>\n      <th>var_288</th>\n      <th>var_290</th>\n      <th>var_291</th>\n      <th>var_292</th>\n      <th>var_293</th>\n      <th>var_295</th>\n      <th>var_298</th>\n      <th>var_299</th>\n      <th>var_300</th>\n    </tr>\n  </thead>\n  <tbody>\n    <tr>\n      <th>count</th>\n      <td>24500.000000</td>\n      <td>24500.000000</td>\n      <td>24500.000000</td>\n      <td>24500.000000</td>\n      <td>24500.000000</td>\n      <td>24500.000000</td>\n      <td>24500.000000</td>\n      <td>24500.000000</td>\n      <td>24500.000000</td>\n      <td>24500.000000</td>\n      <td>...</td>\n      <td>24500.000000</td>\n      <td>24500.000000</td>\n      <td>24500.000000</td>\n      <td>24500.000000</td>\n      <td>24500.00000</td>\n      <td>24500.000000</td>\n      <td>24500.000000</td>\n      <td>24500.000000</td>\n      <td>24500.000000</td>\n      <td>2.450000e+04</td>\n    </tr>\n    <tr>\n      <th>mean</th>\n      <td>0.001959</td>\n      <td>9.505698</td>\n      <td>3.168856</td>\n      <td>576.883608</td>\n      <td>0.000122</td>\n      <td>0.032816</td>\n      <td>0.000367</td>\n      <td>5.049415</td>\n      <td>1.998612</td>\n      <td>56.243582</td>\n      <td>...</td>\n      <td>82.450338</td>\n      <td>0.110804</td>\n      <td>10.246986</td>\n      <td>0.005633</td>\n      <td>0.09703</td>\n      <td>0.009184</td>\n      <td>0.126000</td>\n      <td>0.003143</td>\n      <td>17.845268</td>\n      <td>5.901528e+03</td>\n    </tr>\n    <tr>\n      <th>std</th>\n      <td>0.101402</td>\n      <td>728.074414</td>\n      <td>2.768712</td>\n      <td>10151.771380</td>\n      <td>0.019166</td>\n      <td>0.312051</td>\n      <td>0.033196</td>\n      <td>231.507148</td>\n      <td>1.431255</td>\n      <td>2878.129876</td>\n      <td>...</td>\n      <td>3153.057895</td>\n      <td>1.083260</td>\n      <td>533.527182</td>\n      <td>0.129873</td>\n      <td>1.26670</td>\n      <td>0.198049</td>\n      <td>0.604217</td>\n      <td>0.079991</td>\n      <td>1084.015022</td>\n      <td>4.991740e+04</td>\n    </tr>\n    <tr>\n      <th>min</th>\n      <td>0.000000</td>\n      <td>0.000000</td>\n      <td>0.000000</td>\n      <td>0.000000</td>\n      <td>0.000000</td>\n      <td>0.000000</td>\n      <td>0.000000</td>\n      <td>-0.900000</td>\n      <td>0.000000</td>\n      <td>0.000000</td>\n      <td>...</td>\n      <td>0.000000</td>\n      <td>0.000000</td>\n      <td>0.000000</td>\n      <td>0.000000</td>\n      <td>0.00000</td>\n      <td>0.000000</td>\n      <td>0.000000</td>\n      <td>0.000000</td>\n      <td>0.000000</td>\n      <td>0.000000e+00</td>\n    </tr>\n    <tr>\n      <th>25%</th>\n      <td>0.000000</td>\n      <td>0.000000</td>\n      <td>0.000000</td>\n      <td>0.000000</td>\n      <td>0.000000</td>\n      <td>0.000000</td>\n      <td>0.000000</td>\n      <td>0.000000</td>\n      <td>0.000000</td>\n      <td>0.000000</td>\n      <td>...</td>\n      <td>0.000000</td>\n      <td>0.000000</td>\n      <td>0.000000</td>\n      <td>0.000000</td>\n      <td>0.00000</td>\n      <td>0.000000</td>\n      <td>0.000000</td>\n      <td>0.000000</td>\n      <td>0.000000</td>\n      <td>0.000000e+00</td>\n    </tr>\n    <tr>\n      <th>50%</th>\n      <td>0.000000</td>\n      <td>0.000000</td>\n      <td>2.850000</td>\n      <td>0.000000</td>\n      <td>0.000000</td>\n      <td>0.000000</td>\n      <td>0.000000</td>\n      <td>0.000000</td>\n      <td>3.000000</td>\n      <td>0.000000</td>\n      <td>...</td>\n      <td>0.000000</td>\n      <td>0.000000</td>\n      <td>0.000000</td>\n      <td>0.000000</td>\n      <td>0.00000</td>\n      <td>0.000000</td>\n      <td>0.000000</td>\n      <td>0.000000</td>\n      <td>0.000000</td>\n      <td>0.000000e+00</td>\n    </tr>\n    <tr>\n      <th>75%</th>\n      <td>0.000000</td>\n      <td>0.000000</td>\n      <td>3.000000</td>\n      <td>0.000000</td>\n      <td>0.000000</td>\n      <td>0.000000</td>\n      <td>0.000000</td>\n      <td>0.000000</td>\n      <td>3.000000</td>\n      <td>0.000000</td>\n      <td>...</td>\n      <td>0.000000</td>\n      <td>0.000000</td>\n      <td>0.000000</td>\n      <td>0.000000</td>\n      <td>0.00000</td>\n      <td>0.000000</td>\n      <td>0.000000</td>\n      <td>0.000000</td>\n      <td>0.000000</td>\n      <td>0.000000e+00</td>\n    </tr>\n    <tr>\n      <th>max</th>\n      <td>9.000000</td>\n      <td>101195.473500</td>\n      <td>35.280000</td>\n      <td>418500.000000</td>\n      <td>3.000000</td>\n      <td>3.000000</td>\n      <td>3.000000</td>\n      <td>33120.000000</td>\n      <td>9.000000</td>\n      <td>377990.085000</td>\n      <td>...</td>\n      <td>246477.390600</td>\n      <td>41.850000</td>\n      <td>45503.530800</td>\n      <td>3.000000</td>\n      <td>74.52000</td>\n      <td>12.000000</td>\n      <td>6.000000</td>\n      <td>3.000000</td>\n      <td>134666.681100</td>\n      <td>2.857673e+06</td>\n    </tr>\n  </tbody>\n</table>\n<p>8 rows × 225 columns</p>\n</div>"
     },
     "execution_count": 95,
     "metadata": {},
     "output_type": "execute_result"
    }
   ],
   "source": [
    "X.describe()"
   ],
   "metadata": {
    "collapsed": false
   }
  },
  {
   "cell_type": "code",
   "execution_count": null,
   "outputs": [],
   "source": [],
   "metadata": {
    "collapsed": false
   }
  }
 ],
 "metadata": {
  "kernelspec": {
   "display_name": "Python 3",
   "language": "python",
   "name": "python3"
  },
  "language_info": {
   "codemirror_mode": {
    "name": "ipython",
    "version": 2
   },
   "file_extension": ".py",
   "mimetype": "text/x-python",
   "name": "python",
   "nbconvert_exporter": "python",
   "pygments_lexer": "ipython2",
   "version": "2.7.6"
  }
 },
 "nbformat": 4,
 "nbformat_minor": 0
}
